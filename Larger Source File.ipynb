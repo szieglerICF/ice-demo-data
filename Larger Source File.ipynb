{
 "cells": [
  {
   "cell_type": "code",
   "execution_count": 0,
   "metadata": {
    "application/vnd.databricks.v1+cell": {
     "cellMetadata": {
      "byteLimit": 2048000,
      "implicitDf": true,
      "rowLimit": 10000
     },
     "inputWidgets": {},
     "nuid": "6fb03dd1-e35f-458c-ba08-439dfe08be14",
     "showTitle": false,
     "tableResultSettingsMap": {},
     "title": ""
    }
   },
   "outputs": [],
   "source": [
    "%sql\n",
    "CREATE TABLE IF NOT EXISTS hive_metastore.default.ice_data_large (\n",
    "    record_date STRING,\n",
    "    lead_source STRING,\n",
    "    lead_id STRING,\n",
    "    first_name STRING,\n",
    "    last_name STRING,\n",
    "    alias STRING,\n",
    "    date_of_birth STRING,\n",
    "    country_of_origin STRING,\n",
    "    anumber STRING,\n",
    "    fingerprint_hash STRING,\n",
    "    last_known_address STRING,\n",
    "    phone_number STRING,\n",
    "    sex STRING,\n",
    "    height_inches INT,\n",
    "    weight INT,\n",
    "    risk_level STRING,\n",
    "    organized_crime_links STRING,\n",
    "    distinguishing_marks STRING,\n",
    "    legal_proceedings STRING,\n",
    "    past_deportations STRING,\n",
    "    known_associates STRING,\n",
    "    case_officer_assigned STRING,\n",
    "    deportation_orders STRING\n",
    ")\n",
    "USING csv\n",
    "OPTIONS (\n",
    "    path \"/FileStore/tables/ice_data_2025_02_28_135500_2.csv\",\n",
    "    header \"true\"\n",
    ");"
   ]
  }
 ],
 "metadata": {
  "application/vnd.databricks.v1+notebook": {
   "computePreferences": null,
   "dashboards": [],
   "environmentMetadata": {
    "base_environment": "",
    "environment_version": "2"
   },
   "inputWidgetPreferences": null,
   "language": "python",
   "notebookMetadata": {
    "mostRecentlyExecutedCommandWithImplicitDF": {
     "commandId": 906819326622371,
     "dataframes": [
      "_sqldf"
     ]
    },
    "pythonIndentUnit": 4
   },
   "notebookName": "Larger Source File",
   "widgets": {}
  },
  "language_info": {
   "name": "python"
  }
 },
 "nbformat": 4,
 "nbformat_minor": 0
}
